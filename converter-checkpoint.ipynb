{
 "cells": [
  {
   "cell_type": "code",
   "execution_count": 3,
   "id": "7791ae02",
   "metadata": {},
   "outputs": [],
   "source": [
    "import math\n",
    "a=6378137\n",
    "F=1/298.25722356\n",
    "b= 6356752.3142451\n",
    "E=math.sqrt((a**2-b**2)/a**2)\n",
    "EDASH=math.sqrt((a**2-b**2)/b**2)\n"
   ]
  },
  {
   "cell_type": "code",
   "execution_count": 4,
   "id": "39efccb0",
   "metadata": {},
   "outputs": [],
   "source": [
    "def ecefTolla(x,y,z):\n",
    "    p=math.sqrt(x**2+y**2)\n",
    "    theta=math.atan((z*a)/(p*b))\n",
    "    longtitude=math.atan(y/x)\n",
    "    latitude=math.atan((z+b*(EDASH**2)*math.sin(theta)**3)/(p-E**2*a*math.cos(theta)**3))\n",
    "    N=a/(math.sqrt(1-E**2*math.sin(latitude)**2))\n",
    "    altitude=p/math.cos(latitude)-N\n",
    "    return (latitude,longtitude,altitude)\n",
    "    "
   ]
  },
  {
   "cell_type": "code",
   "execution_count": 5,
   "id": "cbd2d6ea",
   "metadata": {},
   "outputs": [
    {
     "name": "stdout",
     "output_type": "stream",
     "text": [
      "(0.6156478506573725, -0.7502321516985909, 100.00064639095217)\n"
     ]
    }
   ],
   "source": [
    "print(ecefTolla(-3813477.599,3554276.226,3662785.918))"
   ]
  },
  {
   "cell_type": "code",
   "execution_count": 8,
   "id": "260e24e0",
   "metadata": {},
   "outputs": [],
   "source": [
    "def llaToecef(lat,long,alt=0):\n",
    "    N=a/(math.sqrt(1-E**2*math.sin(lat)**2))\n",
    "    x=(N+alt)*math.cos(lat)*math.cos(long)\n",
    "    y=(N+alt)*math.cos(lat)*math.sin(long)\n",
    "    z=((a**2/b**2)*N+alt)*math.sin(lat)\n",
    "    return (x,y,z)"
   ]
  },
  {
   "cell_type": "code",
   "execution_count": 9,
   "id": "7c53aba1",
   "metadata": {},
   "outputs": [
    {
     "name": "stdout",
     "output_type": "stream",
     "text": [
      "(-1671708.089550462, 4515595.520498176, -4225108.408935235)\n"
     ]
    }
   ],
   "source": [
    "print(llaToecef(35.274418, 137.013843))"
   ]
  },
  {
   "cell_type": "code",
   "execution_count": 1,
   "id": "956063f8",
   "metadata": {},
   "outputs": [],
   "source": [
    "import pyproj"
   ]
  },
  {
   "cell_type": "code",
   "execution_count": 4,
   "id": "ab60101e",
   "metadata": {},
   "outputs": [
    {
     "name": "stdout",
     "output_type": "stream",
     "text": [
      "35.274023508967176 137.0148640526522 100.00064636394382\n"
     ]
    }
   ],
   "source": [
    "transformerxyz2lla = pyproj.Transformer.from_crs(\n",
    "    {\"proj\":'geocent', \"ellps\":'WGS84', \"datum\":'WGS84'},\n",
    "    {\"proj\":'latlong', \"ellps\":'WGS84', \"datum\":'WGS84'},\n",
    "    )\n",
    "x=-3813477.599\n",
    "y=3554276.226\n",
    "z=3662785.918\n",
    "lon1, lat1, alt1 = transformerxyz2lla.transform(x,y,z,radians=False)\n",
    "print (lat1, lon1, alt1 )"
   ]
  },
  {
   "cell_type": "code",
   "execution_count": 6,
   "id": "b696f2eb",
   "metadata": {},
   "outputs": [
    {
     "name": "stdout",
     "output_type": "stream",
     "text": [
      "-3813477.598999999 3554276.2260000007 3662785.918\n"
     ]
    }
   ],
   "source": [
    "transformerlla2xyz = pyproj.Transformer.from_crs(\n",
    "    {\"proj\":'latlong', \"ellps\":'WGS84', \"datum\":'WGS84'},\n",
    "    {\"proj\":'geocent', \"ellps\":'WGS84', \"datum\":'WGS84'},\n",
    "    )\n",
    "x1,y1,z1=transformerlla2xyz.transform(lon1,lat1,alt1)\n",
    "print(x1,y1,z1)"
   ]
  },
  {
   "cell_type": "code",
   "execution_count": null,
   "id": "013a895f",
   "metadata": {},
   "outputs": [],
   "source": []
  }
 ],
 "metadata": {
  "kernelspec": {
   "display_name": "Python 3",
   "language": "python",
   "name": "python3"
  },
  "language_info": {
   "codemirror_mode": {
    "name": "ipython",
    "version": 3
   },
   "file_extension": ".py",
   "mimetype": "text/x-python",
   "name": "python",
   "nbconvert_exporter": "python",
   "pygments_lexer": "ipython3",
   "version": "3.8.8"
  }
 },
 "nbformat": 4,
 "nbformat_minor": 5
}
